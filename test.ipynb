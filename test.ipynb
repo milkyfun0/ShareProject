{
 "cells": [
  {
   "cell_type": "code",
   "outputs": [
    {
     "data": {
      "text/plain": "{'input_ids': tensor([[49406,   272, 49407],\n        [49406,   273, 49407],\n        [49406,   274, 49407]]), 'attention_mask': tensor([[1, 1, 1],\n        [1, 1, 1],\n        [1, 1, 1]])}"
     },
     "execution_count": 24,
     "metadata": {},
     "output_type": "execute_result"
    }
   ],
   "source": [
    "import torch\n",
    "from torch import nn\n",
    "from transformers import AutoTokenizer\n",
    "\n",
    "trans_dict = {\n",
    "    \"[PAD]\": \"<|endoftext|>\",\n",
    "    \"[UNK]\": \"<|endoftext|>\",\n",
    "    \"[CLS]\": \"<|startoftext|>\",\n",
    "    \"[SEP]\": \"<|endoftext|>\",\n",
    "    \"[MASK]\": \"<|endoftext|>\"\n",
    "}\n",
    "static_dict = torch.load(\n",
    "    \"./models_data/base_clip/TinyCLIP-ViT-40M-32-Text-19M-LAION400M/TinyCLIP-ViT-40M-32-Text-19M-LAION400M.pt\")\n",
    "token_embedding = nn.Embedding(49408, 512).from_pretrained(static_dict[\"token_embedding.weight\"])\n",
    "tokenizer = AutoTokenizer.from_pretrained(\"models_data/base_clip/tokenizer\")\n",
    "vocab = []\n",
    "with open(\"models_data/base_cnn/tokenizer/vocab.txt\") as f:\n",
    "    for line in f.readlines():\n",
    "        vocab.append(line.replace(\"\\n\", \"\").strip())\n",
    "ids = []\n",
    "# for word in vocab:\n",
    "#     if word in trans_dict:\n",
    "#         word = trans_dict[word]\n",
    "#     caption = tokenizer(\n",
    "#         [word + \"6\"], return_tensors='pt', truncation=True)[\"input_ids\"]\n",
    "#     ids.append(caption[0][1])\n",
    "# ids = torch.tensor(ids).reshape(-1, 1)\n",
    "# embeding = token_embedding(ids).squeeze()\n",
    "# embeding.shape\n",
    "tokenizer([\"1\", \"2\", \"3\"], return_tensors=\"pt\", padding=False)"
   ],
   "metadata": {
    "collapsed": false,
    "ExecuteTime": {
     "end_time": "2024-03-06T14:03:06.373548Z",
     "start_time": "2024-03-06T14:03:06.191619Z"
    }
   },
   "id": "2a8c1286868894a",
   "execution_count": 24
  },
  {
   "cell_type": "code",
   "outputs": [],
   "source": [
    "import torch\n",
    "from torch import nn"
   ],
   "metadata": {
    "collapsed": false,
    "ExecuteTime": {
     "end_time": "2024-03-10T13:38:05.616806Z",
     "start_time": "2024-03-10T13:38:04.789863Z"
    }
   },
   "id": "e51c9be0fc71e560",
   "execution_count": 2
  },
  {
   "cell_type": "code",
   "outputs": [
    {
     "ename": "ValueError",
     "evalue": "in_channels must be divisible by groups",
     "output_type": "error",
     "traceback": [
      "\u001B[1;31m---------------------------------------------------------------------------\u001B[0m",
      "\u001B[1;31mValueError\u001B[0m                                Traceback (most recent call last)",
      "Cell \u001B[1;32mIn[3], line 1\u001B[0m\n\u001B[1;32m----> 1\u001B[0m conv \u001B[38;5;241m=\u001B[39m \u001B[43mnn\u001B[49m\u001B[38;5;241;43m.\u001B[39;49m\u001B[43mConv2d\u001B[49m\u001B[43m(\u001B[49m\u001B[43min_channels\u001B[49m\u001B[38;5;241;43m=\u001B[39;49m\u001B[38;5;241;43m1\u001B[39;49m\u001B[43m,\u001B[49m\u001B[43m \u001B[49m\u001B[43mout_channels\u001B[49m\u001B[38;5;241;43m=\u001B[39;49m\u001B[38;5;241;43m6\u001B[39;49m\u001B[43m,\u001B[49m\u001B[43m \u001B[49m\u001B[43mkernel_size\u001B[49m\u001B[38;5;241;43m=\u001B[39;49m\u001B[38;5;241;43m1\u001B[39;49m\u001B[43m,\u001B[49m\u001B[43m \u001B[49m\u001B[43mgroups\u001B[49m\u001B[38;5;241;43m=\u001B[39;49m\u001B[38;5;241;43m6\u001B[39;49m\u001B[43m)\u001B[49m\n\u001B[0;32m      2\u001B[0m conv\u001B[38;5;241m.\u001B[39mweight\u001B[38;5;241m.\u001B[39mdata\u001B[38;5;241m.\u001B[39msize()\n",
      "File \u001B[1;32mD:\\Anaconda\\envs\\retrieval\\lib\\site-packages\\torch\\nn\\modules\\conv.py:450\u001B[0m, in \u001B[0;36mConv2d.__init__\u001B[1;34m(self, in_channels, out_channels, kernel_size, stride, padding, dilation, groups, bias, padding_mode, device, dtype)\u001B[0m\n\u001B[0;32m    448\u001B[0m padding_ \u001B[38;5;241m=\u001B[39m padding \u001B[38;5;28;01mif\u001B[39;00m \u001B[38;5;28misinstance\u001B[39m(padding, \u001B[38;5;28mstr\u001B[39m) \u001B[38;5;28;01melse\u001B[39;00m _pair(padding)\n\u001B[0;32m    449\u001B[0m dilation_ \u001B[38;5;241m=\u001B[39m _pair(dilation)\n\u001B[1;32m--> 450\u001B[0m \u001B[38;5;28msuper\u001B[39m(Conv2d, \u001B[38;5;28mself\u001B[39m)\u001B[38;5;241m.\u001B[39m\u001B[38;5;21m__init__\u001B[39m(\n\u001B[0;32m    451\u001B[0m     in_channels, out_channels, kernel_size_, stride_, padding_, dilation_,\n\u001B[0;32m    452\u001B[0m     \u001B[38;5;28;01mFalse\u001B[39;00m, _pair(\u001B[38;5;241m0\u001B[39m), groups, bias, padding_mode, \u001B[38;5;241m*\u001B[39m\u001B[38;5;241m*\u001B[39mfactory_kwargs)\n",
      "File \u001B[1;32mD:\\Anaconda\\envs\\retrieval\\lib\\site-packages\\torch\\nn\\modules\\conv.py:90\u001B[0m, in \u001B[0;36m_ConvNd.__init__\u001B[1;34m(self, in_channels, out_channels, kernel_size, stride, padding, dilation, transposed, output_padding, groups, bias, padding_mode, device, dtype)\u001B[0m\n\u001B[0;32m     88\u001B[0m     \u001B[38;5;28;01mraise\u001B[39;00m \u001B[38;5;167;01mValueError\u001B[39;00m(\u001B[38;5;124m'\u001B[39m\u001B[38;5;124mgroups must be a positive integer\u001B[39m\u001B[38;5;124m'\u001B[39m)\n\u001B[0;32m     89\u001B[0m \u001B[38;5;28;01mif\u001B[39;00m in_channels \u001B[38;5;241m%\u001B[39m groups \u001B[38;5;241m!=\u001B[39m \u001B[38;5;241m0\u001B[39m:\n\u001B[1;32m---> 90\u001B[0m     \u001B[38;5;28;01mraise\u001B[39;00m \u001B[38;5;167;01mValueError\u001B[39;00m(\u001B[38;5;124m'\u001B[39m\u001B[38;5;124min_channels must be divisible by groups\u001B[39m\u001B[38;5;124m'\u001B[39m)\n\u001B[0;32m     91\u001B[0m \u001B[38;5;28;01mif\u001B[39;00m out_channels \u001B[38;5;241m%\u001B[39m groups \u001B[38;5;241m!=\u001B[39m \u001B[38;5;241m0\u001B[39m:\n\u001B[0;32m     92\u001B[0m     \u001B[38;5;28;01mraise\u001B[39;00m \u001B[38;5;167;01mValueError\u001B[39;00m(\u001B[38;5;124m'\u001B[39m\u001B[38;5;124mout_channels must be divisible by groups\u001B[39m\u001B[38;5;124m'\u001B[39m)\n",
      "\u001B[1;31mValueError\u001B[0m: in_channels must be divisible by groups"
     ]
    }
   ],
   "source": [
    "# conv = nn.Conv2d(in_channels=1, out_channels=6, kernel_size=1, groups=6)\n",
    "# conv.weight.data.size()"
   ],
   "metadata": {
    "collapsed": false,
    "ExecuteTime": {
     "end_time": "2024-03-10T13:38:05.914802Z",
     "start_time": "2024-03-10T13:38:05.796818Z"
    }
   },
   "id": "21cdb2a5b17f6cc9",
   "execution_count": 3
  },
  {
   "cell_type": "code",
   "outputs": [
    {
     "ename": "TypeError",
     "evalue": "_TensorBase.apply_() takes exactly one argument (0 given)",
     "output_type": "error",
     "traceback": [
      "\u001B[1;31m---------------------------------------------------------------------------\u001B[0m",
      "\u001B[1;31mTypeError\u001B[0m                                 Traceback (most recent call last)",
      "Cell \u001B[1;32mIn[5], line 2\u001B[0m\n\u001B[0;32m      1\u001B[0m x \u001B[38;5;241m=\u001B[39m torch\u001B[38;5;241m.\u001B[39mtensor([\u001B[38;5;241m1\u001B[39m, \u001B[38;5;241m2\u001B[39m, \u001B[38;5;241m3\u001B[39m])\n\u001B[1;32m----> 2\u001B[0m \u001B[43mx\u001B[49m\u001B[38;5;241;43m.\u001B[39;49m\u001B[43mapply_\u001B[49m\u001B[43m(\u001B[49m\u001B[43m)\u001B[49m\n",
      "\u001B[1;31mTypeError\u001B[0m: _TensorBase.apply_() takes exactly one argument (0 given)"
     ]
    }
   ],
   "source": [
    "x = torch.tensor([1, 2, 3])\n",
    "x.apply_()"
   ],
   "metadata": {
    "collapsed": false,
    "ExecuteTime": {
     "end_time": "2024-03-10T13:38:32.761730Z",
     "start_time": "2024-03-10T13:38:32.735817Z"
    }
   },
   "id": "1c9c20d3401411b2",
   "execution_count": 5
  },
  {
   "cell_type": "code",
   "outputs": [
    {
     "data": {
      "text/plain": "tensor([ True, False,  True])"
     },
     "execution_count": 9,
     "metadata": {},
     "output_type": "execute_result"
    }
   ],
   "source": [
    "torch.tensor([True, False, True]) + torch.tensor([False, False, True])"
   ],
   "metadata": {
    "collapsed": false,
    "ExecuteTime": {
     "end_time": "2024-03-10T14:46:02.986771Z",
     "start_time": "2024-03-10T14:46:02.966970Z"
    }
   },
   "id": "1005f23b66d2ffcd",
   "execution_count": 9
  },
  {
   "cell_type": "code",
   "outputs": [
    {
     "ename": "RuntimeError",
     "evalue": "Boolean value of Tensor with more than one value is ambiguous",
     "output_type": "error",
     "traceback": [
      "\u001B[1;31m---------------------------------------------------------------------------\u001B[0m",
      "\u001B[1;31mRuntimeError\u001B[0m                              Traceback (most recent call last)",
      "Cell \u001B[1;32mIn[10], line 1\u001B[0m\n\u001B[1;32m----> 1\u001B[0m \u001B[38;5;241m0.2\u001B[39m \u001B[38;5;241m<\u001B[39m torch\u001B[38;5;241m.\u001B[39mtensor([\u001B[38;5;241m1\u001B[39m, \u001B[38;5;241m0.2\u001B[39m, \u001B[38;5;241m0.3\u001B[39m]) \u001B[38;5;241m<\u001B[39m \u001B[38;5;241m1\u001B[39m\n",
      "\u001B[1;31mRuntimeError\u001B[0m: Boolean value of Tensor with more than one value is ambiguous"
     ]
    }
   ],
   "source": [
    "0.2 < torch.tensor([1, 0.2, 0.3]) < 1"
   ],
   "metadata": {
    "collapsed": false,
    "ExecuteTime": {
     "end_time": "2024-03-10T14:50:48.051938Z",
     "start_time": "2024-03-10T14:50:47.823408Z"
    }
   },
   "id": "19b77a94e29f7130",
   "execution_count": 10
  },
  {
   "cell_type": "code",
   "outputs": [
    {
     "data": {
      "text/plain": "tensor([1, 1, 1])"
     },
     "execution_count": 3,
     "metadata": {},
     "output_type": "execute_result"
    }
   ],
   "source": [
    "def f1(value):\n",
    "    return 1\n",
    "\n",
    "import torch\n",
    "x = torch.tensor([1, 2, 3])\n",
    "x.apply_(f1)\n",
    "x"
   ],
   "metadata": {
    "collapsed": false,
    "ExecuteTime": {
     "end_time": "2024-03-12T03:35:52.606487Z",
     "start_time": "2024-03-12T03:35:52.591487Z"
    }
   },
   "id": "7f0a0f6cc00fca",
   "execution_count": 3
  },
  {
   "cell_type": "code",
   "outputs": [],
   "source": [],
   "metadata": {
    "collapsed": false
   },
   "id": "efe85ee94f058526"
  }
 ],
 "metadata": {
  "kernelspec": {
   "name": "retrival",
   "language": "python",
   "display_name": "retrival"
  },
  "language_info": {
   "codemirror_mode": {
    "name": "ipython",
    "version": 2
   },
   "file_extension": ".py",
   "mimetype": "text/x-python",
   "name": "python",
   "nbconvert_exporter": "python",
   "pygments_lexer": "ipython2",
   "version": "2.7.6"
  }
 },
 "nbformat": 4,
 "nbformat_minor": 5
}
